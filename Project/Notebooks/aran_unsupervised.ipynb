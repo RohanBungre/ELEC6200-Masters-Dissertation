{
 "cells": [
  {
   "cell_type": "markdown",
   "metadata": {
    "id": "Ip5rKOFNZdfm"
   },
   "source": [
    "### Load libraries \n",
    "\n",
    "\n"
   ]
  },
  {
   "cell_type": "code",
   "execution_count": 1,
   "metadata": {
    "id": "E8HabdXRZ6rK"
   },
   "outputs": [],
   "source": [
    "import pandas as pd \n",
    "import pickle\n",
    "from IPython import display\n",
    "import datetime\n",
    "from sklearn.cluster import KMeans\n",
    "import numpy as np\n",
    "import matplotlib.pyplot as plt\n",
    "import seaborn as sns\n",
    "\n",
    "import os \n",
    "import sys"
   ]
  },
  {
   "cell_type": "code",
   "execution_count": 2,
   "metadata": {
    "colab": {
     "base_uri": "https://localhost:8080/",
     "height": 34
    },
    "id": "Dp-hbM_gZ6rW",
    "outputId": "c6645683-3c58-4426-9a44-0f32175435d5"
   },
   "outputs": [
    {
     "data": {
      "text/plain": [
       "'1.1.4'"
      ]
     },
     "execution_count": 2,
     "metadata": {},
     "output_type": "execute_result"
    }
   ],
   "source": [
    "pd.__version__"
   ]
  },
  {
   "cell_type": "code",
   "execution_count": 3,
   "metadata": {
    "scrolled": true
   },
   "outputs": [
    {
     "name": "stdout",
     "output_type": "stream",
     "text": [
      "D:\\Documents\\Education\\University\\4th Year\\ELEC6200 - Group Design Project\\gdp-wild-dogs\n"
     ]
    }
   ],
   "source": [
    "#!pwd\n",
    "print(os.getcwd())"
   ]
  },
  {
   "cell_type": "markdown",
   "metadata": {},
   "source": [
    "### Checking OS system \n",
    "- slight difference in file path for different OS systems:\n",
    "    - linux: '/home/user/Data'\n",
    "    - windows: 'C:\\\\user\\\\Data'"
   ]
  },
  {
   "cell_type": "code",
   "execution_count": 4,
   "metadata": {},
   "outputs": [
    {
     "name": "stdout",
     "output_type": "stream",
     "text": [
      "OS System:  windows\n"
     ]
    }
   ],
   "source": [
    "os_system = sys.platform\n",
    "if os_system.startswith('win'):\n",
    "    os_system = 'windows'\n",
    "print('OS System: ', os_system)"
   ]
  },
  {
   "cell_type": "markdown",
   "metadata": {},
   "source": [
    "### List Directory Tree"
   ]
  },
  {
   "cell_type": "code",
   "execution_count": 5,
   "metadata": {},
   "outputs": [],
   "source": [
    "def list_files(startpath):\n",
    "    for root, dirs, files in os.walk(startpath):\n",
    "        level = root.replace(startpath, '').count(os.sep)\n",
    "        indent = ' ' * 4 * (level)\n",
    "        print('{}{}/'.format(indent, os.path.basename(root)))\n",
    "        subindent = ' ' * 4 * (level + 1)\n",
    "        for f in files:\n",
    "            print('{}{}'.format(subindent, f))"
   ]
  },
  {
   "cell_type": "code",
   "execution_count": 6,
   "metadata": {},
   "outputs": [
    {
     "name": "stdout",
     "output_type": "stream",
     "text": [
      "Data/\n",
      "    2020-11-05/\n",
      "        201105_807d3a2a0fe8_xyz.pkl\n",
      "        cut.pkl\n",
      "        cutoff.txt\n",
      "        dataFeatured.pkl\n",
      "        labelled.pkl\n",
      "        labels.csv\n",
      "        raw.pkl\n",
      "    2020-11-16/\n",
      "        201116_807d3a2a0fe8_xyz.pkl\n",
      "        cut.pkl\n",
      "        cutoff.txt\n",
      "        dataFeatured.pkl\n",
      "        labelled.pkl\n",
      "        labels.csv\n",
      "        raw.pkl\n",
      "    2020-11-23/\n",
      "        201123_807d3a2a0fe8_xyz.pkl\n",
      "        cut.pkl\n",
      "        cutoff.txt\n",
      "        dataFeatured.pkl\n",
      "        labelled.pkl\n",
      "        labels.csv\n",
      "        raw.pkl\n",
      "    2020-11-26/\n",
      "        201126_807d3a2a0fe8_xyz.pkl\n",
      "        cut.pkl\n",
      "        cutoff.txt\n",
      "        dataFeatured.pkl\n",
      "        labelled.pkl\n",
      "        labels.csv\n",
      "        raw.pkl\n",
      "    2020-11-27/\n",
      "        201127_807d3a2a0fe8_xyz.pkl\n",
      "        cut.pkl\n",
      "        cutoff.txt\n",
      "        dataFeatured.pkl\n",
      "        labelled.pkl\n",
      "        labels.csv\n",
      "        raw.pkl\n",
      "    2020-11-28/\n",
      "        201128_807d3a2a0fe8_xyz.pkl\n",
      "        raw.pkl\n",
      "    2020-12-03/\n",
      "        201203_807d3a2a0fe8.pkl\n",
      "        201203_807d3a2a0fe8_xyz.pkl\n",
      "        raw.pkl\n"
     ]
    }
   ],
   "source": [
    "list_files(os.path.join(os.getcwd(), 'Data'))"
   ]
  },
  {
   "cell_type": "markdown",
   "metadata": {
    "id": "bzFygJuEY6Wz"
   },
   "source": [
    " ### Functions to Trim, Load, and Label data"
   ]
  },
  {
   "cell_type": "code",
   "execution_count": 7,
   "metadata": {
    "colab": {
     "base_uri": "https://localhost:8080/",
     "height": 623
    },
    "id": "q6zJuH2LZ6rk",
    "outputId": "156b2cf9-43e6-447d-db18-c085e763b23c"
   },
   "outputs": [
    {
     "name": "stdout",
     "output_type": "stream",
     "text": [
      "OS System:  windows\n"
     ]
    }
   ],
   "source": [
    "os_system = sys.platform\n",
    "if os_system.startswith('win'):\n",
    "    os_system = 'windows'\n",
    "print('OS System: ', os_system)\n",
    "\n",
    "if os_system == 'linux':\n",
    "    filepath = './Data'\n",
    "    pathstyle = '/'\n",
    "elif os_system == 'windows':\n",
    "    filepath = 'Data'\n",
    "    pathstyle = '\\\\'\n",
    "\n",
    "def trimData(folderPath):\n",
    "    for subdir, dirs, files in os.walk(folderPath):\n",
    "        if subdir != \"Data\":\n",
    "            cutoffPresent = 0\n",
    "            for filename in os.listdir(subdir):\n",
    "                if filename == \"cutoff.txt\":\n",
    "                    cutoffPresent = 1\n",
    "                    f = open('./'+subdir+'/cutoff.txt', \"r\")\n",
    "                    start = f.readline()\n",
    "                    start = datetime.time(int(start.split(\",\")[0]), int(start.split(\",\")[1]), int(start.split(\",\")[2]))\n",
    "                    end = f.readline()\n",
    "                    end = datetime.time(int(end.split(\",\")[0]), int(end.split(\",\")[1]), int(end.split(\",\")[2]))\n",
    "            for filename in os.listdir(subdir):\n",
    "                if cutoffPresent == 1:\n",
    "                    if filename == \"raw.pkl\":\n",
    "                        df = pd.read_pickle(subdir+pathstyle+ filename)\n",
    "                        df.reset_index(inplace=True)\n",
    "                        df = df.drop(['mag_x', 'mag_y', 'mag_z', 'pressure'], axis=1)\n",
    "                        df = df.loc[(df['dt'].dt.time > start) & (df['dt'].dt.time < end)]\n",
    "                        df.to_pickle(\"./\"+subdir+\"/cut.pkl\")\n",
    "                        print(\"cut saved in: \", subdir)\n",
    "                        cutoffPresent = 0\n",
    "    return 0\n",
    "\n",
    "def loadData(folderPath):\n",
    "    for filename in os.listdir(folderPath):\n",
    "        if filename == \"cut.pkl\":\n",
    "            data = pd.read_pickle(folderPath+pathstyle+ filename)\n",
    "            data.reset_index(inplace=True)\n",
    "            return data\n",
    "\n",
    "def loadLabels(folderPath):\n",
    "    for filename in os.listdir(folderPath):\n",
    "        if filename == \"labels.csv\":\n",
    "            labels = pd.read_csv(folderPath+pathstyle+filename)\n",
    "            labels.reset_index(inplace=True)\n",
    "            return labels\n",
    "\n",
    "def labelData(data, labels):\n",
    "    if('activity' in data.columns):\n",
    "                    data.drop('activity', 1, inplace=True)\n",
    "\n",
    "    labelsList = []\n",
    "    intervalIndex = 0\n",
    "    intervalBegin = pd.to_datetime(labels['start_time'][intervalIndex], utc=True)\n",
    "    intervalEnd = pd.to_datetime(labels['end_time'][intervalIndex], utc=True)\n",
    "    for i in range(0, len(data)):\n",
    "        time = pd.to_datetime(data['dt'][i])\n",
    "        while(time > intervalEnd):\n",
    "            if(intervalIndex + 1 >= len(labels)):\n",
    "                break\n",
    "            intervalIndex += 1\n",
    "            intervalBegin = pd.to_datetime(labels['start_time'][intervalIndex], utc=True)\n",
    "            intervalEnd = pd.to_datetime(labels['end_time'][intervalIndex], utc=True)\n",
    "        if(time > intervalEnd or time < intervalBegin):\n",
    "            labelsList.append(\"None\")\n",
    "        else:\n",
    "            labelsList.append(labels[\"activity\"][intervalIndex])\n",
    "    data[\"activity\"] = labelsList\n",
    "\n",
    "def loadAndLabel():\n",
    "        \n",
    "    labelledDfList = []\n",
    "\n",
    "    for subdir, dirs, files in os.walk(filepath):\n",
    "        if subdir != \"Data\":\n",
    "            data = loadData(subdir)\n",
    "            labels = loadLabels(subdir)\n",
    "            if (data is not None) & (labels is not None):\n",
    "                print(\"Labelled Data from {}\".format((str(pd.to_datetime(data['dt'][0], utc=True))[0:10])))\n",
    "                labelData(data, labels)\n",
    "                labelledDfList.append(data)\n",
    "                \n",
    "    return labelledDfList"
   ]
  },
  {
   "cell_type": "code",
   "execution_count": 8,
   "metadata": {},
   "outputs": [
    {
     "name": "stdout",
     "output_type": "stream",
     "text": [
      "Labelled Data from 2020-11-05\n",
      "Labelled Data from 2020-11-16\n",
      "Labelled Data from 2020-11-23\n",
      "Labelled Data from 2020-11-26\n",
      "Labelled Data from 2020-11-27\n"
     ]
    }
   ],
   "source": [
    "dfList = loadAndLabel()"
   ]
  },
  {
   "cell_type": "markdown",
   "metadata": {},
   "source": [
    "# Unvsupervised investigation"
   ]
  },
  {
   "cell_type": "code",
   "execution_count": 33,
   "metadata": {},
   "outputs": [],
   "source": [
    "def sessionsToArrays(sessionList):\n",
    "    sessionArrays = []\n",
    "    \n",
    "    sessionList.append(pd.concat(sessionList,ignore_index=True, sort=False))\n",
    "    \n",
    "    for session in sessionList:\n",
    "        session.drop(session.loc[session['activity']==\"None\"].index, inplace=True)\n",
    "        session.drop(session.loc[session['activity']==\"playing\"].index, inplace=True)\n",
    "        if 'level_0' in session.columns:\n",
    "            session = session.drop([\"level_0\"], axis=1)\n",
    "        session.reset_index(inplace=True)\n",
    "        sessionArrays.append(session[['acc_x', 'acc_y', 'acc_z', 'gyro_x', 'gyro_y', 'gyro_z']].values)\n",
    "    \n",
    "    return sessionArrays\n",
    "\n",
    "def fitKMeans(sessionArray):\n",
    "    kmeans = KMeans(n_clusters=10)\n",
    "    kmeans.fit(sessionArray)\n",
    "    return kmeans\n",
    "\n",
    "def evaluateLabels(session, labels):\n",
    "    activities = session[\"activity\"].unique()\n",
    "    grid = []\n",
    "    session['labels'] = labels\n",
    "    for activity in activities:\n",
    "        activityData = session[session['activity'] == activity]\n",
    "        perc = []\n",
    "        \n",
    "        print(activity)\n",
    "        if len(activityData) != 0:\n",
    "            for x in range(0,10):\n",
    "                perc.append((len(activityData[activityData['labels'] == x])/len(activityData))*100)\n",
    "            max_value = max(perc)\n",
    "            max_index = perc.index(max_value)\n",
    "            print(max_value, \"% in label \", max_index)\n",
    "            grid.append(perc)\n",
    "        else:\n",
    "            print(\"None of activity in dataset\")\n",
    "            activities.remove(activity)\n",
    "    grid = pd.DataFrame(grid).transpose()\n",
    "    grid.columns = activities\n",
    "    fig = plt.figure()\n",
    "    ax = sns.heatmap(grid.transpose())\n",
    "    ax.set_xlabel(\"Clusters\")\n",
    "    ax.set_ylabel(\"Activities\")"
   ]
  },
  {
   "cell_type": "code",
   "execution_count": 10,
   "metadata": {},
   "outputs": [
    {
     "name": "stdout",
     "output_type": "stream",
     "text": [
      "6\n",
      "16770\n",
      "75386\n",
      "50117\n",
      "86327\n",
      "26102\n",
      "254702\n"
     ]
    }
   ],
   "source": [
    "sessionArrays = sessionsToArrays(dfList)\n",
    "print(len(sessionArrays))\n",
    "for x in sessionArrays:\n",
    "    print(len(x))"
   ]
  },
  {
   "cell_type": "code",
   "execution_count": 11,
   "metadata": {},
   "outputs": [],
   "source": [
    "kmeans1 = fitKMeans(sessionArrays[0])\n",
    "kmeans2 = fitKMeans(sessionArrays[1])\n",
    "kmeans3 = fitKMeans(sessionArrays[2])\n",
    "kmeansComb = fitKMeans(sessionArrays[-1])"
   ]
  },
  {
   "cell_type": "code",
   "execution_count": 34,
   "metadata": {},
   "outputs": [
    {
     "name": "stdout",
     "output_type": "stream",
     "text": [
      "Session 1\n",
      "jumping\n",
      "24.91767288693743 % in label  9\n",
      "galloping\n",
      "20.830078125 % in label  9\n",
      "sitting\n",
      "90.11857707509881 % in label  9\n",
      "barking\n",
      "71.96261682242991 % in label  9\n",
      "trotting\n",
      "31.062271062271062 % in label  9\n",
      "walking\n",
      "40.32934131736527 % in label  9\n",
      "laying\n",
      "96.57039711191335 % in label  9\n",
      "\n",
      "\n",
      "Session 2\n",
      "sniffing\n",
      "58.77917414721724 % in label  5\n",
      "walking\n",
      "37.67988916848088 % in label  5\n",
      "standing\n",
      "86.55304452286208 % in label  5\n",
      "trotting\n",
      "19.593001613103365 % in label  0\n",
      "galloping\n",
      "16.7572633552015 % in label  4\n",
      "laying\n",
      "94.23185143500281 % in label  5\n",
      "eating\n",
      "68.96551724137932 % in label  5\n",
      "sitting\n",
      "91.33986928104575 % in label  5\n",
      "\n",
      "\n",
      "Session 3\n",
      "walking\n",
      "26.40919854502844 % in label  0\n",
      "sniffing\n",
      "61.17673784643344 % in label  0\n",
      "standing\n",
      "76.98170731707317 % in label  0\n",
      "trotting\n",
      "17.99812030075188 % in label  6\n",
      "\n",
      "\n",
      "Sessions Combined:\n",
      "jumping\n",
      "19.957761351636748 % in label  8\n",
      "galloping\n",
      "12.689881685514873 % in label  7\n",
      "sitting\n",
      "90.39871677360219 % in label  1\n",
      "barking\n",
      "60.18518518518518 % in label  1\n",
      "trotting\n",
      "20.9217644610903 % in label  1\n",
      "walking\n",
      "37.690877861697366 % in label  1\n",
      "laying\n",
      "92.45848420526907 % in label  1\n",
      "sniffing\n",
      "65.86875513168698 % in label  1\n",
      "standing\n",
      "89.41674722644201 % in label  1\n",
      "eating\n",
      "78.90668139149642 % in label  1\n"
     ]
    },
    {
     "data": {
      "image/png": "[encoded data removed]",
      "text/plain": [
       "<Figure size 432x288 with 2 Axes>"
      ]
     },
     "metadata": {
      "needs_background": "light"
     },
     "output_type": "display_data"
    },
    {
     "data": {
      "image/png": "[encoded data removed]",
      "text/plain": [
       "<Figure size 432x288 with 2 Axes>"
      ]
     },
     "metadata": {
      "needs_background": "light"
     },
     "output_type": "display_data"
    },
    {
     "data": {
      "image/png": "[encoded data removed]",
      "text/plain": [
       "<Figure size 432x288 with 2 Axes>"
      ]
     },
     "metadata": {
      "needs_background": "light"
     },
     "output_type": "display_data"
    },
    {
     "data": {
      "image/png": "[encoded data removed]",
      "text/plain": [
       "<Figure size 432x288 with 2 Axes>"
      ]
     },
     "metadata": {
      "needs_background": "light"
     },
     "output_type": "display_data"
    }
   ],
   "source": [
    "combSessions = pd.concat(dfList[0:-1], sort=False)\n",
    "combSessions = combSessions.drop(['level_0'], axis=1)\n",
    "combSessions.reset_index(inplace=True, drop=True)\n",
    "\n",
    "print(\"Session 1\")\n",
    "evaluateLabels(dfList[0], kmeans1.labels_)\n",
    "print(\"\\n\\nSession 2\")\n",
    "evaluateLabels(dfList[1], kmeans2.labels_)\n",
    "print(\"\\n\\nSession 3\")\n",
    "evaluateLabels(dfList[2], kmeans3.labels_)\n",
    "\n",
    "print(\"\\n\\nSessions Combined:\")\n",
    "evaluateLabels(combSessions, kmeansComb.labels_)"
   ]
  },
  {
   "cell_type": "markdown",
   "metadata": {},
   "source": [
    "## Add Some features (mean/var)"
   ]
  },
  {
   "cell_type": "code",
   "execution_count": 35,
   "metadata": {},
   "outputs": [
    {
     "name": "stdout",
     "output_type": "stream",
     "text": [
      "Starting DF 0\n",
      "Starting DF 1\n",
      "Starting DF 2\n",
      "Starting DF 3\n",
      "Starting DF 4\n"
     ]
    }
   ],
   "source": [
    "query_variables = [\"acc_x\", \"acc_y\", \"acc_z\", \"gyro_x\", \"gyro_y\", \"gyro_z\"]\n",
    "composite_variables = []\n",
    "windowSize = 10 #Maximum Size of window on either side of point\n",
    "dfIndex = 0;\n",
    "show_progress=False\n",
    "dfList_meanvar = dfList[0:-1]\n",
    "for df in dfList_meanvar:\n",
    "    print(\"Starting DF \" + str(dfIndex))\n",
    "    values = {}\n",
    "    for variable in query_variables:\n",
    "            values[variable + \"_MEAN\"] = []\n",
    "            values[variable + \"_VAR\"] = []\n",
    "    for i in range(0, len(df.index)):\n",
    "        minIndex = 0\n",
    "        maxIndex = len(df.index)\n",
    "        if(i >= windowSize):\n",
    "            minIndex = i - windowSize\n",
    "        if(i <= len(df.index)-1-windowSize):\n",
    "            maxIndex = i+windowSize\n",
    "        slice = df.iloc[minIndex:maxIndex+1]\n",
    "        for variable in query_variables:\n",
    "            values[variable + \"_MEAN\"].append(slice[variable].mean())\n",
    "            values[variable + \"_VAR\"].append(slice[variable].var())\n",
    "        if(show_progress):\n",
    "            display.clear_output()\n",
    "            print(\"Processing Dataframe: \" + str(dfIndex))\n",
    "            print(\"Percentage Finished: \" + str(float(i)*100/len(df.index)) + \"%\")\n",
    "    for variable in query_variables:\n",
    "            df[variable + \"_MEAN\"] = values[variable + \"_MEAN\"]\n",
    "            df[variable + \"_VAR\"] = values[variable + \"_VAR\"]\n",
    "            if(not (variable + \"_MEAN\") in composite_variables):\n",
    "                composite_variables.append((variable + \"_MEAN\"))\n",
    "            if(not (variable + \"_VAR\") in composite_variables):\n",
    "                composite_variables.append((variable + \"_VAR\"))\n",
    "    dfIndex += 1"
   ]
  },
  {
   "cell_type": "code",
   "execution_count": 36,
   "metadata": {},
   "outputs": [
    {
     "name": "stdout",
     "output_type": "stream",
     "text": [
      "6\n",
      "16770\n",
      "75386\n",
      "50117\n",
      "86327\n",
      "26102\n",
      "254702\n"
     ]
    }
   ],
   "source": [
    "sessionArrays_meanvar = sessionsToArrays(dfList_meanvar)\n",
    "print(len(sessionArrays_meanvar))\n",
    "for x in sessionArrays_meanvar:\n",
    "    print(len(x))"
   ]
  },
  {
   "cell_type": "code",
   "execution_count": 37,
   "metadata": {},
   "outputs": [],
   "source": [
    "kmeans1_meanvar = fitKMeans(sessionArrays_meanvar[0])\n",
    "kmeans2_meanvar = fitKMeans(sessionArrays_meanvar[1])\n",
    "kmeans3_meanvar = fitKMeans(sessionArrays_meanvar[2])\n",
    "kmeansComb_meanvar = fitKMeans(sessionArrays_meanvar[-1])"
   ]
  },
  {
   "cell_type": "code",
   "execution_count": 38,
   "metadata": {
    "scrolled": false
   },
   "outputs": [
    {
     "name": "stdout",
     "output_type": "stream",
     "text": [
      "Session 1\n",
      "jumping\n",
      "24.91767288693743 % in label  4\n",
      "galloping\n",
      "20.869140625 % in label  4\n",
      "sitting\n",
      "90.11857707509881 % in label  4\n",
      "barking\n",
      "71.96261682242991 % in label  4\n",
      "trotting\n",
      "31.135531135531135 % in label  4\n",
      "walking\n",
      "40.29940119760479 % in label  4\n",
      "laying\n",
      "96.57039711191335 % in label  4\n",
      "\n",
      "\n",
      "Session 2\n",
      "sniffing\n",
      "58.86295631358468 % in label  0\n",
      "walking\n",
      "37.77884588198705 % in label  0\n",
      "standing\n",
      "86.47796381109693 % in label  0\n",
      "trotting\n",
      "19.543367663481824 % in label  9\n",
      "galloping\n",
      "16.663542642924085 % in label  3\n",
      "laying\n",
      "94.20371412492966 % in label  0\n",
      "eating\n",
      "68.83780332056195 % in label  0\n",
      "sitting\n",
      "91.17647058823529 % in label  0\n",
      "\n",
      "\n",
      "Session 3\n",
      "walking\n",
      "26.316431901960307 % in label  4\n",
      "sniffing\n",
      "61.085870059064064 % in label  4\n",
      "standing\n",
      "76.90548780487805 % in label  4\n",
      "trotting\n",
      "18.092105263157894 % in label  3\n",
      "\n",
      "\n",
      "Sessions Combined:\n",
      "jumping\n",
      "19.640971488912353 % in label  3\n",
      "galloping\n",
      "12.660023140372486 % in label  0\n",
      "sitting\n",
      "90.39871677360219 % in label  1\n",
      "barking\n",
      "60.18518518518518 % in label  1\n",
      "trotting\n",
      "20.963379109446524 % in label  1\n",
      "walking\n",
      "37.61009544873454 % in label  1\n",
      "laying\n",
      "92.48345611187415 % in label  1\n",
      "sniffing\n",
      "65.748752605318 % in label  1\n",
      "standing\n",
      "89.47198821525572 % in label  1\n",
      "eating\n",
      "78.86066629854592 % in label  1\n"
     ]
    },
    {
     "data": {
      "image/png": "[encoded data removed]",
      "text/plain": [
       "<Figure size 432x288 with 2 Axes>"
      ]
     },
     "metadata": {
      "needs_background": "light"
     },
     "output_type": "display_data"
    },
    {
     "data": {
      "image/png": "[encoded data removed]",
      "text/plain": [
       "<Figure size 432x288 with 2 Axes>"
      ]
     },
     "metadata": {
      "needs_background": "light"
     },
     "output_type": "display_data"
    },
    {
     "data": {
      "image/png": "[encoded data removed]",
      "text/plain": [
       "<Figure size 432x288 with 2 Axes>"
      ]
     },
     "metadata": {
      "needs_background": "light"
     },
     "output_type": "display_data"
    },
    {
     "data": {
      "image/png": "[encoded data removed]",
      "text/plain": [
       "<Figure size 432x288 with 2 Axes>"
      ]
     },
     "metadata": {
      "needs_background": "light"
     },
     "output_type": "display_data"
    }
   ],
   "source": [
    "combSessions_meanvar = pd.concat(dfList_meanvar[0:-1], sort=False)\n",
    "#combSessions_meanvar = combSessions.drop(['level_0'], axis=1)\n",
    "combSessions_meanvar.reset_index(inplace=True, drop=True)\n",
    "\n",
    "print(\"Session 1\")\n",
    "evaluateLabels(dfList_meanvar[0], kmeans1_meanvar.labels_)\n",
    "print(\"\\n\\nSession 2\")\n",
    "evaluateLabels(dfList_meanvar[1], kmeans2_meanvar.labels_)\n",
    "print(\"\\n\\nSession 3\")\n",
    "evaluateLabels(dfList_meanvar[2], kmeans3_meanvar.labels_)\n",
    "\n",
    "print(\"\\n\\nSessions Combined:\")\n",
    "evaluateLabels(combSessions_meanvar, kmeansComb_meanvar.labels_)"
   ]
  },
  {
   "cell_type": "code",
   "execution_count": 39,
   "metadata": {},
   "outputs": [],
   "source": [
    "def add_reciprocal_column(df, column1, column2, dfIndex, log=False, verbose=False):\n",
    "    count = 0\n",
    "    if(column1 in df.columns and column2 in df.columns):\n",
    "        print(\"Forming reciprocal of \" + column1 + \"/\" + column2)\n",
    "        reciprocal_vals = []\n",
    "        if((column1 + \"/\" + column2) in df.columns):\n",
    "            df.drop(column1 + \"/\" + column2, 1, inplace=True)\n",
    "        \n",
    "        new_df = df\n",
    "        for i in range(len(df)):\n",
    "            x = df[column1][i]\n",
    "            y = df[column2][i]\n",
    "            if(x == 0):\n",
    "                x = 0.00001\n",
    "            if(y == 0):\n",
    "                y = 0.00001\n",
    "            \n",
    "            result = x/y\n",
    "            if(np.isnan(result) or np.isinf(result)):\n",
    "                count += 1\n",
    "                result = 0.00001\n",
    "            if(log):\n",
    "                result = np.log10(np.abs(result))\n",
    "            reciprocal_vals.append(result)\n",
    "            \n",
    "            if(verbose):\n",
    "                display.clear_output()\n",
    "                print(\"Forming reciprocal of \" + column1 + \"/\" + column2 + \" for Dataframe \" + str(dfIndex))\n",
    "                print(\"Percentage Finished: \" + str(float(i)*100/len(df)) + \"%\")\n",
    "                print(\"NaN or Inf results: \" + str(count))\n",
    "        new_df[column1 + \"/\" + column2] = reciprocal_vals\n",
    "        \n",
    "        return new_df\n",
    "    else:\n",
    "        print(\"Columns not present in Dataframe. Cannot form Reciprocal!\")"
   ]
  },
  {
   "cell_type": "code",
   "execution_count": 40,
   "metadata": {},
   "outputs": [
    {
     "name": "stdout",
     "output_type": "stream",
     "text": [
      "Forming reciprocal of acc_x/acc_y\n",
      "Forming reciprocal of acc_x/acc_y\n",
      "Forming reciprocal of acc_x/acc_y\n",
      "Forming reciprocal of acc_x/acc_y\n",
      "Forming reciprocal of acc_x/acc_y\n",
      "Forming reciprocal of acc_x/acc_z\n",
      "Forming reciprocal of acc_x/acc_z\n",
      "Forming reciprocal of acc_x/acc_z\n",
      "Forming reciprocal of acc_x/acc_z\n",
      "Forming reciprocal of acc_x/acc_z\n",
      "Forming reciprocal of acc_y/acc_z\n",
      "Forming reciprocal of acc_y/acc_z\n",
      "Forming reciprocal of acc_y/acc_z\n",
      "Forming reciprocal of acc_y/acc_z\n",
      "Forming reciprocal of acc_y/acc_z\n"
     ]
    }
   ],
   "source": [
    "dfList_recip = dfList_meanvar[0:-1]\n",
    "for i in range(0,len(dfList_recip)):\n",
    "    dfList_recip[i] = add_reciprocal_column(dfList_recip[i], \"acc_x\", \"acc_y\", i, log=True)\n",
    "for i in range(0,len(dfList_recip)):\n",
    "    dfList_recip[i] = add_reciprocal_column(dfList_recip[i], \"acc_x\", \"acc_z\", i, log=True)\n",
    "for i in range(0,len(dfList_recip)):\n",
    "    dfList_recip[i] = add_reciprocal_column(dfList_recip[i], \"acc_y\", \"acc_z\", i, log=True)"
   ]
  },
  {
   "cell_type": "code",
   "execution_count": 41,
   "metadata": {},
   "outputs": [
    {
     "name": "stdout",
     "output_type": "stream",
     "text": [
      "6\n",
      "16770\n",
      "75386\n",
      "50117\n",
      "86327\n",
      "26102\n",
      "254702\n"
     ]
    }
   ],
   "source": [
    "sessionArrays_recip = sessionsToArrays(dfList_recip)\n",
    "print(len(sessionArrays_recip))\n",
    "for x in sessionArrays_recip:\n",
    "    print(len(x))"
   ]
  },
  {
   "cell_type": "code",
   "execution_count": 42,
   "metadata": {},
   "outputs": [],
   "source": [
    "kmeans1_recip = fitKMeans(sessionArrays_recip[0])\n",
    "kmeans2_recip = fitKMeans(sessionArrays_recip[1])\n",
    "kmeans3_recip = fitKMeans(sessionArrays_recip[2])\n",
    "kmeansComb_recip = fitKMeans(sessionArrays_recip[-1])"
   ]
  },
  {
   "cell_type": "code",
   "execution_count": 43,
   "metadata": {
    "scrolled": false
   },
   "outputs": [
    {
     "name": "stdout",
     "output_type": "stream",
     "text": [
      "Session 1\n",
      "jumping\n",
      "25.13721185510428 % in label  1\n",
      "galloping\n",
      "20.732421875 % in label  1\n",
      "sitting\n",
      "90.11857707509881 % in label  1\n",
      "barking\n",
      "71.02803738317756 % in label  1\n",
      "trotting\n",
      "31.135531135531135 % in label  1\n",
      "walking\n",
      "40.1497005988024 % in label  1\n",
      "laying\n",
      "96.38989169675091 % in label  1\n",
      "\n",
      "\n",
      "Session 2\n",
      "sniffing\n",
      "58.95870736086176 % in label  5\n",
      "walking\n",
      "37.83539257541915 % in label  5\n",
      "standing\n",
      "86.51550416697951 % in label  5\n",
      "trotting\n",
      "19.568184638292593 % in label  1\n",
      "galloping\n",
      "16.719775070290535 % in label  7\n",
      "laying\n",
      "94.28812605514912 % in label  5\n",
      "eating\n",
      "68.83780332056195 % in label  5\n",
      "sitting\n",
      "91.33986928104575 % in label  5\n",
      "\n",
      "\n",
      "Session 3\n",
      "walking\n",
      "26.38722749798599 % in label  4\n",
      "sniffing\n",
      "61.1085870059064 % in label  4\n",
      "standing\n",
      "76.9435975609756 % in label  4\n",
      "trotting\n",
      "17.99812030075188 % in label  1\n",
      "\n",
      "\n",
      "Sessions Combined:\n",
      "jumping\n",
      "19.746568109820487 % in label  9\n",
      "galloping\n",
      "12.708543276228864 % in label  7\n",
      "sitting\n",
      "90.35288725939506 % in label  6\n",
      "barking\n",
      "60.18518518518518 % in label  6\n",
      "trotting\n",
      "20.926966292134832 % in label  6\n",
      "walking\n",
      "37.45558928025223 % in label  6\n",
      "laying\n",
      "92.433512298664 % in label  6\n",
      "sniffing\n",
      "65.59717046674666 % in label  6\n",
      "standing\n",
      "89.43516088937992 % in label  6\n",
      "eating\n",
      "78.84226026136572 % in label  6\n"
     ]
    },
    {
     "data": {
      "image/png": "[encoded data removed]",
      "text/plain": [
       "<Figure size 432x288 with 2 Axes>"
      ]
     },
     "metadata": {
      "needs_background": "light"
     },
     "output_type": "display_data"
    },
    {
     "data": {
      "image/png": "[encoded data removed]",
      "text/plain": [
       "<Figure size 432x288 with 2 Axes>"
      ]
     },
     "metadata": {
      "needs_background": "light"
     },
     "output_type": "display_data"
    },
    {
     "data": {
      "image/png": "[encoded data removed]",
      "text/plain": [
       "<Figure size 432x288 with 2 Axes>"
      ]
     },
     "metadata": {
      "needs_background": "light"
     },
     "output_type": "display_data"
    },
    {
     "data": {
      "image/png": "[encoded data removed]",
      "text/plain": [
       "<Figure size 432x288 with 2 Axes>"
      ]
     },
     "metadata": {
      "needs_background": "light"
     },
     "output_type": "display_data"
    }
   ],
   "source": [
    "print(\"Session 1\")\n",
    "evaluateLabels(dfList_recip[0], kmeans1_recip.labels_)\n",
    "print(\"\\n\\nSession 2\")\n",
    "evaluateLabels(dfList_recip[1], kmeans2_recip.labels_)\n",
    "print(\"\\n\\nSession 3\")\n",
    "evaluateLabels(dfList_recip[2], kmeans3_recip.labels_)\n",
    "\n",
    "print(\"\\n\\nSessions Combined:\")\n",
    "evaluateLabels(dfList_recip[-1], kmeansComb_recip.labels_)"
   ]
  },
  {
   "cell_type": "code",
   "execution_count": 44,
   "metadata": {},
   "outputs": [],
   "source": [
    "from skimage import util\n",
    "\n",
    "# M = Window Size, Rate in Hz\n",
    "def calculate_fourier(column, df, rate, label, use_label=False, M = 64, freq_limit=-1, show=False):\n",
    "    if(column in df.columns):\n",
    "        data = np.array(df[column])\n",
    "        if(use_label):\n",
    "            data = np.array(df.loc[df['activity'] == label][column])\n",
    "        N = data.shape[0]\n",
    "        if(N <= M):\n",
    "            if(use_label):\n",
    "                print(\"Insufficient Data for activity: \" + label)\n",
    "            else:\n",
    "                print(\"Insufficient Complete Data\")\n",
    "            return []\n",
    "        L = N / rate\n",
    "        slices = util.view_as_windows(data, window_shape=(M,), step=1)\n",
    "        slices = slices * np.hanning(M + 1)[:-1]\n",
    "        slices = slices.T\n",
    "        spectrum = np.fft.fft(slices, axis=0)[:M // 2 + 1:-1]\n",
    "        spectrum = np.abs(spectrum)\n",
    "        \n",
    "\n",
    "        S = np.abs(spectrum)\n",
    "        #S = 20 * np.log10(S / np.max(S))\n",
    "        S = S / np.max(S)\n",
    "\n",
    "        if(show):\n",
    "            f, ax = plt.subplots(figsize=(20, 10))\n",
    "            if(freq_limit != -1):\n",
    "                ax.imshow(S[0:freq_limit], origin='lower', cmap='viridis', extent=(0, L, 0, freq_limit))\n",
    "            else:\n",
    "                ax.imshow(S, origin='lower', cmap='viridis', extent=(0, L, 0, np.max(np.fft.fftfreq(M, d=1/rate))))\n",
    "            ax.axis('tight')\n",
    "            y_label = 'Frequency [Hz] of value: '\n",
    "            y_label = y_label + column\n",
    "            ax.set_ylabel(y_label)\n",
    "            ax.set_xlabel(label + ' Time [s]');\n",
    "        #S has first index referencing frequency in Hz, second index is window index\n",
    "        #print(L)\n",
    "        return S\n",
    "\n",
    "def add_fourier_variables(variable_frequencies, labelledDFList, window_size):\n",
    "    fourier_variables = []\n",
    "    for df in labelledDFList:\n",
    "        for variable in variable_frequencies:\n",
    "            frequency_indices = variable_frequencies[variable]\n",
    "            S = calculate_fourier(variable, df, 50, '', use_label=False, M=window_size, show=False)\n",
    "            for frequency_index in frequency_indices:\n",
    "                new_column = []\n",
    "                new_column.extend(np.zeros(window_size-1))\n",
    "                new_column.extend(S[frequency_index])\n",
    "                print(variable + \" at frequency index: \" + str(frequency_index))\n",
    "                new_var_name = variable + \"_freq_\" + str(frequency_index)\n",
    "                if(new_var_name in df.columns):\n",
    "                    df.drop(new_var_name, 1, inplace=True)\n",
    "                df[new_var_name] = new_column\n",
    "                if(not new_var_name in fourier_variables):\n",
    "                    fourier_variables.append(new_var_name)\n",
    "    return fourier_variables\n",
    "\n",
    "labels_of_interest = ['jumping', 'galloping', 'sitting', 'barking', 'trotting', 'walking', 'laying', 'sniffing', 'playing', 'standing', 'eating', 'sleeping', 'hunting']\n",
    "#labels_of_interest = ['sitting', 'laying', 'standing', 'eating', 'sleeping']\n",
    "value = \"acc_y/acc_z\"\n",
    "do_log=False\n",
    "freq_limit = 15\n",
    "useful_frequencies = {'acc_x': [0, 2, 3, 4, 5, 7], 'acc_y': [0, 4, 5], 'acc_z': [0, 2, 3, 4, 5], 'gyro_x': [5], 'gyro_y': [3, 4], 'acc_x/acc_y': [0, 2, 3, 4], 'acc_x/acc_z': [5], 'acc_y/acc_z': [0, 2, 3]}"
   ]
  },
  {
   "cell_type": "code",
   "execution_count": 45,
   "metadata": {
    "scrolled": false
   },
   "outputs": [
    {
     "name": "stdout",
     "output_type": "stream",
     "text": [
      "acc_x at frequency index: 0\n",
      "acc_x at frequency index: 2\n",
      "acc_x at frequency index: 3\n",
      "acc_x at frequency index: 4\n",
      "acc_x at frequency index: 5\n",
      "acc_x at frequency index: 7\n",
      "acc_y at frequency index: 0\n",
      "acc_y at frequency index: 4\n",
      "acc_y at frequency index: 5\n",
      "acc_z at frequency index: 0\n",
      "acc_z at frequency index: 2\n",
      "acc_z at frequency index: 3\n",
      "acc_z at frequency index: 4\n",
      "acc_z at frequency index: 5\n",
      "gyro_x at frequency index: 5\n",
      "gyro_y at frequency index: 3\n",
      "gyro_y at frequency index: 4\n",
      "acc_x/acc_y at frequency index: 0\n",
      "acc_x/acc_y at frequency index: 2\n",
      "acc_x/acc_y at frequency index: 3\n",
      "acc_x/acc_y at frequency index: 4\n",
      "acc_x/acc_z at frequency index: 5\n",
      "acc_y/acc_z at frequency index: 0\n",
      "acc_y/acc_z at frequency index: 2\n",
      "acc_y/acc_z at frequency index: 3\n",
      "acc_x at frequency index: 0\n",
      "acc_x at frequency index: 2\n",
      "acc_x at frequency index: 3\n",
      "acc_x at frequency index: 4\n",
      "acc_x at frequency index: 5\n",
      "acc_x at frequency index: 7\n",
      "acc_y at frequency index: 0\n",
      "acc_y at frequency index: 4\n",
      "acc_y at frequency index: 5\n",
      "acc_z at frequency index: 0\n",
      "acc_z at frequency index: 2\n",
      "acc_z at frequency index: 3\n",
      "acc_z at frequency index: 4\n",
      "acc_z at frequency index: 5\n",
      "gyro_x at frequency index: 5\n",
      "gyro_y at frequency index: 3\n",
      "gyro_y at frequency index: 4\n",
      "acc_x/acc_y at frequency index: 0\n",
      "acc_x/acc_y at frequency index: 2\n",
      "acc_x/acc_y at frequency index: 3\n",
      "acc_x/acc_y at frequency index: 4\n",
      "acc_x/acc_z at frequency index: 5\n",
      "acc_y/acc_z at frequency index: 0\n",
      "acc_y/acc_z at frequency index: 2\n",
      "acc_y/acc_z at frequency index: 3\n",
      "acc_x at frequency index: 0\n",
      "acc_x at frequency index: 2\n",
      "acc_x at frequency index: 3\n",
      "acc_x at frequency index: 4\n",
      "acc_x at frequency index: 5\n",
      "acc_x at frequency index: 7\n",
      "acc_y at frequency index: 0\n",
      "acc_y at frequency index: 4\n",
      "acc_y at frequency index: 5\n",
      "acc_z at frequency index: 0\n",
      "acc_z at frequency index: 2\n",
      "acc_z at frequency index: 3\n",
      "acc_z at frequency index: 4\n",
      "acc_z at frequency index: 5\n",
      "gyro_x at frequency index: 5\n",
      "gyro_y at frequency index: 3\n",
      "gyro_y at frequency index: 4\n",
      "acc_x/acc_y at frequency index: 0\n",
      "acc_x/acc_y at frequency index: 2\n",
      "acc_x/acc_y at frequency index: 3\n",
      "acc_x/acc_y at frequency index: 4\n",
      "acc_x/acc_z at frequency index: 5\n",
      "acc_y/acc_z at frequency index: 0\n",
      "acc_y/acc_z at frequency index: 2\n",
      "acc_y/acc_z at frequency index: 3\n",
      "acc_x at frequency index: 0\n",
      "acc_x at frequency index: 2\n",
      "acc_x at frequency index: 3\n",
      "acc_x at frequency index: 4\n",
      "acc_x at frequency index: 5\n",
      "acc_x at frequency index: 7\n",
      "acc_y at frequency index: 0\n",
      "acc_y at frequency index: 4\n",
      "acc_y at frequency index: 5\n",
      "acc_z at frequency index: 0\n",
      "acc_z at frequency index: 2\n",
      "acc_z at frequency index: 3\n",
      "acc_z at frequency index: 4\n",
      "acc_z at frequency index: 5\n",
      "gyro_x at frequency index: 5\n",
      "gyro_y at frequency index: 3\n",
      "gyro_y at frequency index: 4\n",
      "acc_x/acc_y at frequency index: 0\n",
      "acc_x/acc_y at frequency index: 2\n",
      "acc_x/acc_y at frequency index: 3\n",
      "acc_x/acc_y at frequency index: 4\n",
      "acc_x/acc_z at frequency index: 5\n",
      "acc_y/acc_z at frequency index: 0\n",
      "acc_y/acc_z at frequency index: 2\n",
      "acc_y/acc_z at frequency index: 3\n",
      "acc_x at frequency index: 0\n",
      "acc_x at frequency index: 2\n",
      "acc_x at frequency index: 3\n",
      "acc_x at frequency index: 4\n",
      "acc_x at frequency index: 5\n",
      "acc_x at frequency index: 7\n",
      "acc_y at frequency index: 0\n",
      "acc_y at frequency index: 4\n",
      "acc_y at frequency index: 5\n",
      "acc_z at frequency index: 0\n",
      "acc_z at frequency index: 2\n",
      "acc_z at frequency index: 3\n",
      "acc_z at frequency index: 4\n",
      "acc_z at frequency index: 5\n",
      "gyro_x at frequency index: 5\n",
      "gyro_y at frequency index: 3\n",
      "gyro_y at frequency index: 4\n",
      "acc_x/acc_y at frequency index: 0\n",
      "acc_x/acc_y at frequency index: 2\n",
      "acc_x/acc_y at frequency index: 3\n",
      "acc_x/acc_y at frequency index: 4\n",
      "acc_x/acc_z at frequency index: 5\n",
      "acc_y/acc_z at frequency index: 0\n",
      "acc_y/acc_z at frequency index: 2\n",
      "acc_y/acc_z at frequency index: 3\n"
     ]
    }
   ],
   "source": [
    "dfList_fourier = dfList[0:-1]\n",
    "fourier_vars = add_fourier_variables(useful_frequencies, dfList_fourier, 80)"
   ]
  },
  {
   "cell_type": "code",
   "execution_count": 46,
   "metadata": {},
   "outputs": [
    {
     "name": "stdout",
     "output_type": "stream",
     "text": [
      "6\n",
      "16770\n",
      "75386\n",
      "50117\n",
      "86327\n",
      "26102\n",
      "254702\n"
     ]
    }
   ],
   "source": [
    "sessionArrays_fourier = sessionsToArrays(dfList_fourier)\n",
    "print(len(sessionArrays_fourier))\n",
    "for x in sessionArrays_fourier:\n",
    "    print(len(x))"
   ]
  },
  {
   "cell_type": "code",
   "execution_count": 47,
   "metadata": {},
   "outputs": [],
   "source": [
    "kmeans1_fourier = fitKMeans(sessionArrays_fourier[0])\n",
    "kmeans2_fourier = fitKMeans(sessionArrays_fourier[1])\n",
    "kmeans3_fourier = fitKMeans(sessionArrays_fourier[2])\n",
    "kmeansComb_fourier = fitKMeans(sessionArrays_fourier[-1])"
   ]
  },
  {
   "cell_type": "code",
   "execution_count": 48,
   "metadata": {
    "scrolled": false
   },
   "outputs": [
    {
     "name": "stdout",
     "output_type": "stream",
     "text": [
      "Session 1\n",
      "jumping\n",
      "25.027442371020857 % in label  5\n",
      "galloping\n",
      "20.888671875 % in label  5\n",
      "sitting\n",
      "90.11857707509881 % in label  5\n",
      "barking\n",
      "71.96261682242991 % in label  5\n",
      "trotting\n",
      "31.135531135531135 % in label  5\n",
      "walking\n",
      "40.29940119760479 % in label  5\n",
      "laying\n",
      "96.57039711191335 % in label  5\n",
      "\n",
      "\n",
      "Session 2\n",
      "sniffing\n",
      "58.82704967085578 % in label  2\n",
      "walking\n",
      "37.7477452005994 % in label  2\n",
      "standing\n",
      "86.48547188227344 % in label  2\n",
      "trotting\n",
      "19.630227075319517 % in label  5\n",
      "galloping\n",
      "16.62605435801312 % in label  9\n",
      "laying\n",
      "94.23185143500281 % in label  2\n",
      "eating\n",
      "68.71008939974456 % in label  2\n",
      "sitting\n",
      "91.17647058823529 % in label  2\n",
      "\n",
      "\n",
      "Session 3\n",
      "walking\n",
      "26.794912481995947 % in label  1\n",
      "sniffing\n",
      "61.13130395274875 % in label  1\n",
      "standing\n",
      "77.85823170731707 % in label  1\n",
      "trotting\n",
      "17.716165413533837 % in label  7\n",
      "\n",
      "\n",
      "Sessions Combined:\n",
      "jumping\n",
      "20.16895459345301 % in label  5\n",
      "galloping\n",
      "12.678684731086479 % in label  4\n",
      "sitting\n",
      "90.39871677360219 % in label  7\n",
      "barking\n",
      "60.18518518518518 % in label  7\n",
      "trotting\n",
      "21.036204744069913 % in label  7\n",
      "walking\n",
      "37.73166121581453 % in label  7\n",
      "laying\n",
      "92.42102634536147 % in label  7\n",
      "sniffing\n",
      "65.86875513168698 % in label  7\n",
      "standing\n",
      "89.54564286700733 % in label  7\n",
      "eating\n",
      "79.06313270752807 % in label  7\n"
     ]
    },
    {
     "data": {
      "image/png": "[encoded data removed]",
      "text/plain": [
       "<Figure size 432x288 with 2 Axes>"
      ]
     },
     "metadata": {
      "needs_background": "light"
     },
     "output_type": "display_data"
    },
    {
     "data": {
      "image/png": "[encoded data removed]",
      "text/plain": [
       "<Figure size 432x288 with 2 Axes>"
      ]
     },
     "metadata": {
      "needs_background": "light"
     },
     "output_type": "display_data"
    },
    {
     "data": {
      "image/png": "[encoded data removed]",
      "text/plain": [
       "<Figure size 432x288 with 2 Axes>"
      ]
     },
     "metadata": {
      "needs_background": "light"
     },
     "output_type": "display_data"
    },
    {
     "data": {
      "image/png": "[encoded data removed]",
      "text/plain": [
       "<Figure size 432x288 with 2 Axes>"
      ]
     },
     "metadata": {
      "needs_background": "light"
     },
     "output_type": "display_data"
    }
   ],
   "source": [
    "print(\"Session 1\")\n",
    "evaluateLabels(dfList_fourier[0], kmeans1_fourier.labels_)\n",
    "print(\"\\n\\nSession 2\")\n",
    "evaluateLabels(dfList_fourier[1], kmeans2_fourier.labels_)\n",
    "print(\"\\n\\nSession 3\")\n",
    "evaluateLabels(dfList_fourier[2], kmeans3_fourier.labels_)\n",
    "\n",
    "print(\"\\n\\nSessions Combined:\")\n",
    "evaluateLabels(dfList_fourier[-1], kmeansComb_fourier.labels_)"
   ]
  },
  {
   "cell_type": "code",
   "execution_count": null,
   "metadata": {},
   "outputs": [],
   "source": []
  }
 ],
 "metadata": {
  "celltoolbar": "Raw Cell Format",
  "colab": {
   "collapsed_sections": [
    "szxxSBIuZF5W"
   ],
   "name": "gdp_data.ipynb",
   "provenance": []
  },
  "kernelspec": {
   "display_name": "Python 3",
   "language": "python",
   "name": "python3"
  },
  "language_info": {
   "codemirror_mode": {
    "name": "ipython",
    "version": 3
   },
   "file_extension": ".py",
   "mimetype": "text/x-python",
   "name": "python",
   "nbconvert_exporter": "python",
   "pygments_lexer": "ipython3",
   "version": "3.8.3"
  }
 },
 "nbformat": 4,
 "nbformat_minor": 1
}
