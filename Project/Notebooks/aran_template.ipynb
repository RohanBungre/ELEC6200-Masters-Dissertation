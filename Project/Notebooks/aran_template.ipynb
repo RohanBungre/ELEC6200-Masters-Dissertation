{
 "cells": [
  {
   "cell_type": "markdown",
   "metadata": {
    "id": "Ip5rKOFNZdfm"
   },
   "source": [
    "### Load libraries \n",
    "\n",
    "\n"
   ]
  },
  {
   "cell_type": "code",
   "execution_count": 1,
   "metadata": {
    "id": "E8HabdXRZ6rK"
   },
   "outputs": [],
   "source": [
    "import pandas as pd \n",
    "import pickle\n",
    "from IPython import display\n",
    "import datetime\n",
    "\n",
    "import os \n",
    "import sys"
   ]
  },
  {
   "cell_type": "code",
   "execution_count": 2,
   "metadata": {
    "colab": {
     "base_uri": "https://localhost:8080/",
     "height": 34
    },
    "id": "Dp-hbM_gZ6rW",
    "outputId": "c6645683-3c58-4426-9a44-0f32175435d5"
   },
   "outputs": [
    {
     "data": {
      "text/plain": [
       "'1.1.4'"
      ]
     },
     "execution_count": 2,
     "metadata": {},
     "output_type": "execute_result"
    }
   ],
   "source": [
    "pd.__version__"
   ]
  },
  {
   "cell_type": "code",
   "execution_count": 3,
   "metadata": {
    "scrolled": true
   },
   "outputs": [
    {
     "name": "stdout",
     "output_type": "stream",
     "text": [
      "D:\\Documents\\Education\\University\\4th Year\\ELEC6200 - Group Design Project\\gdp-wild-dogs\n"
     ]
    }
   ],
   "source": [
    "#!pwd\n",
    "print(os.getcwd())"
   ]
  },
  {
   "cell_type": "markdown",
   "metadata": {},
   "source": [
    "### Checking OS system \n",
    "- slight difference in file path for different OS systems:\n",
    "    - linux: '/home/user/Data'\n",
    "    - windows: 'C:\\\\user\\\\Data'"
   ]
  },
  {
   "cell_type": "code",
   "execution_count": 4,
   "metadata": {},
   "outputs": [
    {
     "name": "stdout",
     "output_type": "stream",
     "text": [
      "OS System:  windows\n"
     ]
    }
   ],
   "source": [
    "os_system = sys.platform\n",
    "if os_system.startswith('win'):\n",
    "    os_system = 'windows'\n",
    "print('OS System: ', os_system)"
   ]
  },
  {
   "cell_type": "markdown",
   "metadata": {},
   "source": [
    "### List Directory Tree"
   ]
  },
  {
   "cell_type": "code",
   "execution_count": 5,
   "metadata": {},
   "outputs": [],
   "source": [
    "def list_files(startpath):\n",
    "    for root, dirs, files in os.walk(startpath):\n",
    "        level = root.replace(startpath, '').count(os.sep)\n",
    "        indent = ' ' * 4 * (level)\n",
    "        print('{}{}/'.format(indent, os.path.basename(root)))\n",
    "        subindent = ' ' * 4 * (level + 1)\n",
    "        for f in files:\n",
    "            print('{}{}'.format(subindent, f))"
   ]
  },
  {
   "cell_type": "code",
   "execution_count": 6,
   "metadata": {},
   "outputs": [
    {
     "name": "stdout",
     "output_type": "stream",
     "text": [
      "Data/\n",
      "    2020-11-05/\n",
      "        201105_807d3a2a0fe8_xyz.pkl\n",
      "        cut.pkl\n",
      "        cutoff.txt\n",
      "        labels.csv\n",
      "        raw.pkl\n",
      "    2020-11-16/\n",
      "        201116_807d3a2a0fe8_xyz.pkl\n",
      "        cut.pkl\n",
      "        cutoff.txt\n",
      "        labels.csv\n",
      "        raw.pkl\n",
      "    2020-11-23/\n",
      "        201123_807d3a2a0fe8_xyz.pkl\n",
      "        cut.pkl\n",
      "        cutoff.txt\n",
      "        labels.csv\n",
      "        raw.pkl\n",
      "    2020-11-26/\n",
      "        201126_807d3a2a0fe8_xyz.pkl\n",
      "        raw.pkl\n",
      "    2020-11-27/\n",
      "        201127_807d3a2a0fe8_xyz.pkl\n",
      "        raw.pkl\n",
      "    2020-11-28/\n",
      "        201128_807d3a2a0fe8_xyz.pkl\n",
      "        raw.pkl\n"
     ]
    }
   ],
   "source": [
    "list_files(os.path.join(os.getcwd(), 'Data'))"
   ]
  },
  {
   "cell_type": "markdown",
   "metadata": {
    "id": "bzFygJuEY6Wz"
   },
   "source": [
    " ### Functions to Trim, Load, and Label data"
   ]
  },
  {
   "cell_type": "code",
   "execution_count": 7,
   "metadata": {
    "colab": {
     "base_uri": "https://localhost:8080/",
     "height": 623
    },
    "id": "q6zJuH2LZ6rk",
    "outputId": "156b2cf9-43e6-447d-db18-c085e763b23c"
   },
   "outputs": [
    {
     "name": "stdout",
     "output_type": "stream",
     "text": [
      "OS System:  windows\n"
     ]
    }
   ],
   "source": [
    "os_system = sys.platform\n",
    "if os_system.startswith('win'):\n",
    "    os_system = 'windows'\n",
    "print('OS System: ', os_system)\n",
    "\n",
    "if os_system == 'linux':\n",
    "    filepath = './Data'\n",
    "    pathstyle = '/'\n",
    "elif os_system == 'windows':\n",
    "    filepath = 'Data'\n",
    "    pathstyle = '\\\\'\n",
    "\n",
    "def trimData(folderPath):\n",
    "        \n",
    "    cutoffPresent = 0\n",
    "    \n",
    "    for filename in os.listdir(folderPath):\n",
    "        if filename == \"cutoff.txt\":\n",
    "            cutoffPresent = 1\n",
    "            f = open('./'+folderPath+'/cutoff.txt', \"r\")\n",
    "            start = f.readline()\n",
    "            start = datetime.time(int(start.split(\",\")[0]), int(start.split(\",\")[1]), int(start.split(\",\")[2]))\n",
    "            end = f.readline()\n",
    "            end = datetime.time(int(end.split(\",\")[0]), int(end.split(\",\")[1]), int(end.split(\",\")[2]))\n",
    "    for filename in os.listdir(folderPath):\n",
    "        if cutoffPresent == 1:\n",
    "            if filename == \"raw.pkl\":\n",
    "                df = pd.read_pickle(subdir+pathstyle+ filename)\n",
    "                df.reset_index(inplace=True)\n",
    "                df = df.drop(['mag_x', 'mag_y', 'mag_z', 'pressure'], axis=1)\n",
    "                display.display(df)\n",
    "                df = df.loc[(df['dt'].dt.time > start) & (df['dt'].dt.time < end)]\n",
    "                df.to_pickle(\"./\"+folderPath+\"/cut.pkl\")\n",
    "                cutoffPresent = 0\n",
    "    return 0\n",
    "\n",
    "def loadData(folderPath):\n",
    "    for filename in os.listdir(folderPath):\n",
    "        if filename == \"cut.pkl\":\n",
    "            data = pd.read_pickle(folderPath+pathstyle+ filename)\n",
    "            data.reset_index(inplace=True)\n",
    "            return data\n",
    "\n",
    "def loadLabels(folderPath):\n",
    "    for filename in os.listdir(folderPath):\n",
    "        if filename == \"labels.csv\":\n",
    "            labels = pd.read_csv(folderPath+pathstyle+filename)\n",
    "            labels.reset_index(inplace=True)\n",
    "            return labels\n",
    "\n",
    "def labelData(data, labels):\n",
    "    if('activity' in data.columns):\n",
    "                    data.drop('activity', 1, inplace=True)\n",
    "\n",
    "    labelsList = []\n",
    "    intervalIndex = 0\n",
    "    intervalBegin = pd.to_datetime(labels['start_time'][intervalIndex], utc=True)\n",
    "    intervalEnd = pd.to_datetime(labels['end_time'][intervalIndex], utc=True)\n",
    "    for i in range(0, len(data)):\n",
    "        time = pd.to_datetime(data['dt'][i])\n",
    "        while(time > intervalEnd):\n",
    "            if(intervalIndex + 1 >= len(labels)):\n",
    "                break\n",
    "            intervalIndex += 1\n",
    "            intervalBegin = pd.to_datetime(labels['start_time'][intervalIndex], utc=True)\n",
    "            intervalEnd = pd.to_datetime(labels['end_time'][intervalIndex], utc=True)\n",
    "        if(time > intervalEnd or time < intervalBegin):\n",
    "            labelsList.append(\"None\")\n",
    "        else:\n",
    "            labelsList.append(labels[\"activity\"][intervalIndex])\n",
    "    data[\"activity\"] = labelsList\n",
    "\n",
    "def loadAndLabel():\n",
    "        \n",
    "    labelledDfList = []\n",
    "\n",
    "    for subdir, dirs, files in os.walk(filepath):\n",
    "        if subdir != \"Data\":\n",
    "            data = loadData(subdir)\n",
    "            labels = loadLabels(subdir)\n",
    "            if (data is not None) & (labels is not None):\n",
    "                print(\"Labelled Data from {}\".format((str(pd.to_datetime(data['dt'][0], utc=True))[0:10])))\n",
    "                labelData(data, labels)\n",
    "                labelledDfList.append(data)\n",
    "                \n",
    "    return labelledDfList"
   ]
  },
  {
   "cell_type": "code",
   "execution_count": 8,
   "metadata": {},
   "outputs": [
    {
     "name": "stdout",
     "output_type": "stream",
     "text": [
      "Labelled Data from 2020-11-05\n",
      "Labelled Data from 2020-11-16\n",
      "Labelled Data from 2020-11-23\n"
     ]
    }
   ],
   "source": [
    "dfList = loadAndLabel()"
   ]
  },
  {
   "cell_type": "code",
   "execution_count": null,
   "metadata": {},
   "outputs": [],
   "source": []
  }
 ],
 "metadata": {
  "celltoolbar": "Raw Cell Format",
  "colab": {
   "collapsed_sections": [
    "szxxSBIuZF5W"
   ],
   "name": "gdp_data.ipynb",
   "provenance": []
  },
  "kernelspec": {
   "display_name": "Python 3",
   "language": "python",
   "name": "python3"
  },
  "language_info": {
   "codemirror_mode": {
    "name": "ipython",
    "version": 3
   },
   "file_extension": ".py",
   "mimetype": "text/x-python",
   "name": "python",
   "nbconvert_exporter": "python",
   "pygments_lexer": "ipython3",
   "version": "3.8.3"
  }
 },
 "nbformat": 4,
 "nbformat_minor": 1
}
